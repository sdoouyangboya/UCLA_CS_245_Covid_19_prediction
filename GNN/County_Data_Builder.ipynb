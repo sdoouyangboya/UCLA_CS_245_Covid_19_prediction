{
  "nbformat": 4,
  "nbformat_minor": 0,
  "metadata": {
    "colab": {
      "name": "County Data Builder.ipynb",
      "provenance": [],
      "authorship_tag": "ABX9TyMctqIuLvfztodXTHxnesJr",
      "include_colab_link": true
    },
    "kernelspec": {
      "name": "python3",
      "display_name": "Python 3"
    }
  },
  "cells": [
    {
      "cell_type": "markdown",
      "metadata": {
        "id": "view-in-github",
        "colab_type": "text"
      },
      "source": [
        "<a href=\"https://colab.research.google.com/github/Sripathm2/UCLA_CS_245_Project5/blob/main/GNN/County_Data_Builder.ipynb\" target=\"_parent\"><img src=\"https://colab.research.google.com/assets/colab-badge.svg\" alt=\"Open In Colab\"/></a>"
      ]
    },
    {
      "cell_type": "code",
      "metadata": {
        "colab": {
          "base_uri": "https://localhost:8080/"
        },
        "id": "x_stS4Ih5Mj6",
        "outputId": "105c977b-6961-4a41-b009-e55c83902b36"
      },
      "source": [
        "%pip install pandas"
      ],
      "execution_count": 1,
      "outputs": [
        {
          "output_type": "stream",
          "text": [
            "Requirement already satisfied: pandas in /usr/local/lib/python3.6/dist-packages (1.1.5)\n",
            "Requirement already satisfied: pytz>=2017.2 in /usr/local/lib/python3.6/dist-packages (from pandas) (2018.9)\n",
            "Requirement already satisfied: numpy>=1.15.4 in /usr/local/lib/python3.6/dist-packages (from pandas) (1.18.5)\n",
            "Requirement already satisfied: python-dateutil>=2.7.3 in /usr/local/lib/python3.6/dist-packages (from pandas) (2.8.1)\n",
            "Requirement already satisfied: six>=1.5 in /usr/local/lib/python3.6/dist-packages (from python-dateutil>=2.7.3->pandas) (1.15.0)\n"
          ],
          "name": "stdout"
        }
      ]
    },
    {
      "cell_type": "code",
      "metadata": {
        "colab": {
          "base_uri": "https://localhost:8080/"
        },
        "id": "SNoNmz955ZRR",
        "outputId": "cbe15f2b-b9cf-4a5b-935e-4791eaedc7df"
      },
      "source": [
        "from google.colab import drive\r\n",
        "drive.mount('/content/drive')"
      ],
      "execution_count": 2,
      "outputs": [
        {
          "output_type": "stream",
          "text": [
            "Drive already mounted at /content/drive; to attempt to forcibly remount, call drive.mount(\"/content/drive\", force_remount=True).\n"
          ],
          "name": "stdout"
        }
      ]
    },
    {
      "cell_type": "code",
      "metadata": {
        "colab": {
          "base_uri": "https://localhost:8080/"
        },
        "id": "YXmBk8qs5mLK",
        "outputId": "94d8582d-720b-47a0-e44d-1de8ba812fc8"
      },
      "source": [
        "%cd /content/drive/MyDrive/CS245"
      ],
      "execution_count": 3,
      "outputs": [
        {
          "output_type": "stream",
          "text": [
            "/content/drive/MyDrive/CS245\n"
          ],
          "name": "stdout"
        }
      ]
    },
    {
      "cell_type": "code",
      "metadata": {
        "id": "Jruti2h6LaDg"
      },
      "source": [
        "import pandas as pd\r\n",
        "import numpy as np"
      ],
      "execution_count": null,
      "outputs": []
    },
    {
      "cell_type": "code",
      "metadata": {
        "id": "t1G-fo7Q5DPF"
      },
      "source": [
        "sci_path = '/content/drive/MyDrive/CS245/county_county_aug2020.tsv'\r\n",
        "covid_path = '/content/drive/MyDrive/CS245/Clean.csv'"
      ],
      "execution_count": 18,
      "outputs": []
    },
    {
      "cell_type": "code",
      "metadata": {
        "id": "DwaD-kzmKOiZ"
      },
      "source": [
        "def load_file(SCI_data, covid_data):\r\n",
        "  sci = pd.read_csv(SCI_data, sep='\\t').values\r\n",
        "  covid = pd.read_csv(covid_data, sep=',').values\r\n",
        "  fips = sci[:3229][:,1].tolist()\r\n",
        "\r\n",
        "  present_list = np.zeros(3229)\r\n",
        "  for i in range(0,covid.shape[0],67):\r\n",
        "    covid_fip = covid[i,1]\r\n",
        "    for f in range(len(fips)):\r\n",
        "      if covid_fip == fips[f]:\r\n",
        "        present_list[f] = 1\r\n",
        "\r\n",
        "  absent_list = []\r\n",
        "  for i in range(3229):\r\n",
        "    if present_list[i] == 0:\r\n",
        "      absent_list.append(fips[i])\r\n",
        "\r\n",
        "  sci = pd.read_csv(SCI_data, sep='\\t', na_values=absent_list).values\r\n",
        "  return sci, covid, fips"
      ],
      "execution_count": 14,
      "outputs": []
    },
    {
      "cell_type": "code",
      "metadata": {
        "id": "UEHvZQL8KbHB"
      },
      "source": [
        "def build_adj_mat(sci):\r\n",
        "  adj = np.zeros((3215,3215))\r\n",
        "  for i in range(3215):\r\n",
        "    end_idx = (i+1)*3215\r\n",
        "    start_idx = i*3215\r\n",
        "    sci_i = sci[start_idx:end_idx]\r\n",
        "    adj[i] = sci_i[:,2]\r\n",
        "  return adj"
      ],
      "execution_count": 16,
      "outputs": []
    },
    {
      "cell_type": "code",
      "metadata": {
        "id": "ApAw26tB2s9U"
      },
      "source": [
        "def build_county_data(covid, window=6):\r\n",
        "  max_seq = int(covid.shape[0] / 3215)\r\n",
        "  timestep = int(max_seq - window + 1)\r\n",
        "  \r\n",
        "  X = np.zeros([timestep,3215,window-1])\r\n",
        "  y = np.zeros([timestep,3215,1])\r\n",
        "\r\n",
        "  for i in range(3215):\r\n",
        "    for j in range(timestep):\r\n",
        "      X[j,i] = covid[i*max_seq+j:i*max_seq+j+window-1,2]\r\n",
        "      y[j,i] = covid[i*max_seq+j+window-2,2]\r\n",
        "  \r\n",
        "  return X, y\r\n"
      ],
      "execution_count": 54,
      "outputs": []
    },
    {
      "cell_type": "code",
      "metadata": {
        "id": "n52PdsO4Kvzw"
      },
      "source": [
        "sci, covid, fips = load_file(sci_path, covid_path)\r\n",
        "adj = build_adj_mat(sci)\r\n",
        "X, y = build_county_data(covid)"
      ],
      "execution_count": 56,
      "outputs": []
    }
  ]
}